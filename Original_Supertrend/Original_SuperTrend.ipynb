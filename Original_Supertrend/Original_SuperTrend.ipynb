{
  "cells": [
    {
      "cell_type": "code",
      "execution_count": 1,
      "metadata": {
        "id": "VFPYnvTnkw3k"
      },
      "outputs": [],
      "source": [
        "import warnings\n",
        "\n",
        "# Ignore all warnings\n",
        "warnings.filterwarnings('ignore')\n"
      ]
    },
    {
      "cell_type": "code",
      "execution_count": 2,
      "metadata": {
        "id": "yrRjgR8rWsmC"
      },
      "outputs": [],
      "source": [
        "import pandas as pd\n",
        "import numpy as np\n",
        "import yfinance as yf\n",
        "from itertools import product"
      ]
    },
    {
      "cell_type": "code",
      "execution_count": 3,
      "metadata": {
        "id": "-9OqtWLVWjGe"
      },
      "outputs": [],
      "source": [
        "def DataFetcher(symbol, interval='1d'):\n",
        "    suffixes = ['.NS', '.BO']\n",
        "    for suffix in suffixes:\n",
        "        try:\n",
        "            data = yf.download(symbol + suffix, interval=interval, progress=False)\n",
        "            data.drop(columns='Adj Close', inplace=True)\n",
        "            data.rename(columns={'Open': 'open', 'High': 'high', 'Low': 'low', 'Close': 'close', 'Volume': 'volume'}, inplace=True)\n",
        "            data['Time'] = data.index\n",
        "            return data\n",
        "        except Exception as e:\n",
        "            print(f\"Failed to fetch data for {symbol+suffix}: {e}\")\n",
        "    return pd.DataFrame()"
      ]
    },
    {
      "cell_type": "code",
      "execution_count": 4,
      "metadata": {
        "id": "8xCEpkxTYA_W"
      },
      "outputs": [],
      "source": [
        "def get_supertrend(high, low, close, lookback, multiplier):\n",
        "\n",
        "    # ATR\n",
        "\n",
        "    tr1 = pd.DataFrame(high - low)\n",
        "    tr2 = pd.DataFrame(abs(high - close.shift(1)))\n",
        "    tr3 = pd.DataFrame(abs(low - close.shift(1)))\n",
        "    frames = [tr1, tr2, tr3]\n",
        "    tr = pd.concat(frames, axis = 1, join = 'inner').max(axis = 1)\n",
        "    atr = tr.ewm(lookback).mean()\n",
        "\n",
        "    # H/L AVG AND BASIC UPPER & LOWER BAND\n",
        "\n",
        "    hl_avg = (high + low) / 2\n",
        "    upper_band = (hl_avg + multiplier * atr).dropna()\n",
        "    lower_band = (hl_avg - multiplier * atr).dropna()\n",
        "\n",
        "    # FINAL UPPER BAND\n",
        "    final_bands = pd.DataFrame(columns = ['upper', 'lower'])\n",
        "    final_bands.iloc[:,0] = [x for x in upper_band - upper_band]\n",
        "    final_bands.iloc[:,1] = final_bands.iloc[:,0]\n",
        "    for i in range(len(final_bands)):\n",
        "        if i == 0:\n",
        "            final_bands.iloc[i,0] = 0\n",
        "        else:\n",
        "            if (upper_band[i] < final_bands.iloc[i-1,0]) | (close[i-1] > final_bands.iloc[i-1,0]):\n",
        "                final_bands.iloc[i,0] = upper_band[i]\n",
        "            else:\n",
        "                final_bands.iloc[i,0] = final_bands.iloc[i-1,0]\n",
        "\n",
        "    # FINAL LOWER BAND\n",
        "\n",
        "    for i in range(len(final_bands)):\n",
        "        if i == 0:\n",
        "            final_bands.iloc[i, 1] = 0\n",
        "        else:\n",
        "            if (lower_band[i] > final_bands.iloc[i-1,1]) | (close[i-1] < final_bands.iloc[i-1,1]):\n",
        "                final_bands.iloc[i,1] = lower_band[i]\n",
        "            else:\n",
        "                final_bands.iloc[i,1] = final_bands.iloc[i-1,1]\n",
        "\n",
        "    # SUPERTREND\n",
        "\n",
        "    supertrend = pd.DataFrame(columns = [f'supertrend_{lookback}'])\n",
        "    supertrend.iloc[:,0] = [x for x in final_bands['upper'] - final_bands['upper']]\n",
        "\n",
        "    for i in range(len(supertrend)):\n",
        "        if i == 0:\n",
        "            supertrend.iloc[i, 0] = 0\n",
        "        elif supertrend.iloc[i-1, 0] == final_bands.iloc[i-1, 0] and close[i] < final_bands.iloc[i, 0]:\n",
        "            supertrend.iloc[i, 0] = final_bands.iloc[i, 0]\n",
        "        elif supertrend.iloc[i-1, 0] == final_bands.iloc[i-1, 0] and close[i] > final_bands.iloc[i, 0]:\n",
        "            supertrend.iloc[i, 0] = final_bands.iloc[i, 1]\n",
        "        elif supertrend.iloc[i-1, 0] == final_bands.iloc[i-1, 1] and close[i] > final_bands.iloc[i, 1]:\n",
        "            supertrend.iloc[i, 0] = final_bands.iloc[i, 1]\n",
        "        elif supertrend.iloc[i-1, 0] == final_bands.iloc[i-1, 1] and close[i] < final_bands.iloc[i, 1]:\n",
        "            supertrend.iloc[i, 0] = final_bands.iloc[i, 0]\n",
        "\n",
        "    supertrend = supertrend.set_index(upper_band.index)\n",
        "    supertrend = supertrend.dropna()[1:]\n",
        "\n",
        "    # ST UPTREND/DOWNTREND\n",
        "\n",
        "    upt = []\n",
        "    dt = []\n",
        "    close = close.iloc[len(close) - len(supertrend):]\n",
        "\n",
        "    for i in range(len(supertrend)):\n",
        "        if close[i] > supertrend.iloc[i, 0]:\n",
        "            upt.append(supertrend.iloc[i, 0])\n",
        "            dt.append(np.nan)\n",
        "        elif close[i] < supertrend.iloc[i, 0]:\n",
        "            upt.append(np.nan)\n",
        "            dt.append(supertrend.iloc[i, 0])\n",
        "        else:\n",
        "            upt.append(np.nan)\n",
        "            dt.append(np.nan)\n",
        "\n",
        "    st, upt, dt = pd.Series(supertrend.iloc[:, 0]), pd.Series(upt), pd.Series(dt)\n",
        "    upt.index, dt.index = supertrend.index, supertrend.index\n",
        "\n",
        "    return st, upt, dt"
      ]
    },
    {
      "cell_type": "code",
      "execution_count": 5,
      "metadata": {
        "id": "RIOgPs-vgVwq"
      },
      "outputs": [],
      "source": [
        "def implement_st_strategy(df):\n",
        "    prices=df['close']\n",
        "    st=df['st']\n",
        "    st_signal = []\n",
        "    signal = 0\n",
        "\n",
        "    for i in range(len(st)):\n",
        "        if st[i-1] > prices[i-1] and st[i] < prices[i]:\n",
        "            if signal != 1:\n",
        "                signal = 1\n",
        "                st_signal.append(signal)\n",
        "            else:\n",
        "                st_signal.append(0)\n",
        "        elif st[i-1] < prices[i-1] and st[i] > prices[i]:\n",
        "            if signal != -1:\n",
        "                signal = -1\n",
        "                st_signal.append(signal)\n",
        "            else:\n",
        "                st_signal.append(0)\n",
        "        else:\n",
        "            st_signal.append(0)\n",
        "\n",
        "    df['st_signal']=st_signal\n",
        "    position = []\n",
        "    for i in range(len(st_signal)):\n",
        "        if st_signal[i] > 1:\n",
        "            position.append(-1)\n",
        "        else:\n",
        "            position.append(1)\n",
        "\n",
        "    for i in range(len(df['close'])):\n",
        "        if st_signal[i] == 1:\n",
        "            position[i] = 1\n",
        "        elif st_signal[i] == -1:\n",
        "            position[i] = -1\n",
        "        else:\n",
        "            position[i] = position[i-1]\n",
        "    df['signal']=position\n",
        "    signal_mapping = {0: 'HOLD', 1: 'BUY', -1: 'SELL'}\n",
        "    df['action'] = df['st_signal'].map(signal_mapping)\n",
        "\n",
        "    return df[['Time','close','signal','action']]"
      ]
    },
    {
      "cell_type": "code",
      "execution_count": 6,
      "metadata": {
        "id": "k_dcJ8oAg-jJ"
      },
      "outputs": [],
      "source": [
        "def calculate_super_trend_performance(df):\n",
        "    if 'signal' not in df.columns:\n",
        "      raise ValueError(\"Signal column not created. Check calculate_super_trend function.\")\n",
        "\n",
        "    df['returns'] = np.log(df['close'] / df['close'].shift(1))\n",
        "    df['strategy'] = df['signal'].shift(1) * df['returns']\n",
        "    df['creturns'] = df['returns'].cumsum().apply(np.exp)\n",
        "    df['cstrategy'] = df['strategy'].cumsum().apply(np.exp)\n",
        "    perf = df['cstrategy'].iloc[-1]\n",
        "    buy_and_hold = df['creturns'].iloc[-1]\n",
        "    outperf = perf - buy_and_hold\n",
        "    return round(perf, 6), round(buy_and_hold, 6), round(outperf, 6)"
      ]
    },
    {
      "cell_type": "code",
      "execution_count": 7,
      "metadata": {
        "id": "sRbyqUAUq1Hb"
      },
      "outputs": [],
      "source": [
        "def calculate_super_trend(df, multiplier, period):\n",
        "  df['st'], df['s_upt'], df['st_dt'] = get_supertrend(df['high'], df['low'], df['close'], period, multiplier)\n",
        "  df = df[1:]\n",
        "  df=implement_st_strategy(df)\n",
        "  return df"
      ]
    },
    {
      "cell_type": "code",
      "execution_count": 8,
      "metadata": {
        "id": "v_ySEMs1n62i"
      },
      "outputs": [],
      "source": [
        "def optimize_super_trend_parameters(df, multipliers, periods):\n",
        "    best_performance = -np.inf\n",
        "    best_params = None\n",
        "    for multiplier, period in product(multipliers, periods):\n",
        "        temp_df = df.copy()\n",
        "        temp_df=calculate_super_trend(temp_df, multiplier, period)\n",
        "        performance = calculate_super_trend_performance(temp_df)[0]\n",
        "        if performance > best_performance:\n",
        "            best_performance = performance\n",
        "            best_params = (multiplier, period)\n",
        "    return best_params"
      ]
    },
    {
      "cell_type": "code",
      "execution_count": 9,
      "metadata": {
        "id": "RjUHu0o0tbcS"
      },
      "outputs": [],
      "source": [
        "def calculate_profit_percentage(df):\n",
        "    initial_principal = 100000  # Start with $100,000\n",
        "    cash = initial_principal\n",
        "    shares = 0\n",
        "\n",
        "    for index, row in df.iterrows():\n",
        "        if row['action'] == 'BUY' and cash > 0:\n",
        "            shares_bought = cash // row['close']\n",
        "            shares += shares_bought\n",
        "            cash -= shares_bought * row['close']\n",
        "        elif row['action'] == 'SELL' and shares > 0:\n",
        "            cash += shares * row['close']\n",
        "            shares = 0\n",
        "\n",
        "    # If there are any shares left, sell them at the last recorded price\n",
        "    if shares > 0:\n",
        "        cash += shares * df['close'].iloc[-1]\n",
        "        shares = 0\n",
        "\n",
        "    final_principal = cash\n",
        "    profit = final_principal - initial_principal\n",
        "    profit_percentage = (profit / initial_principal) * 100\n",
        "    return profit_percentage"
      ]
    },
    {
      "cell_type": "code",
      "execution_count": 10,
      "metadata": {},
      "outputs": [],
      "source": [
        "stocks_df=pd.read_csv('STOCKS_1.csv')\n",
        "stocks_df = stocks_df.dropna(subset=['Symbol'])\n",
        "stocks=stocks_df['Symbol']"
      ]
    },
    {
      "cell_type": "code",
      "execution_count": 11,
      "metadata": {},
      "outputs": [
        {
          "name": "stderr",
          "output_type": "stream",
          "text": [
            "Fetching data:   0%|          | 4/2164 [33:57<327:08:57, 545.25s/stock]\n",
            "1 Failed download:\n",
            "['3MINDIA.NS']: ReadTimeout(ReadTimeoutError(\"HTTPSConnectionPool(host='query2.finance.yahoo.com', port=443): Read timed out. (read timeout=10)\"))\n",
            "Fetching data:   1%|          | 15/2164 [1:32:39<112:05:38, 187.78s/stock]"
          ]
        }
      ],
      "source": [
        "from tqdm import tqdm\n",
        "all_stocks_data = []  # Initialize an empty list to store individual stock data\n",
        "total_stocks = len(stocks)\n",
        "\n",
        "multipliers = np.arange(1.5, 3.5, 0.5)\n",
        "periods = np.arange(7, 22, 1)\n",
        "\n",
        "for stock in tqdm(stocks, desc=\"Fetching data\", unit=\"stock\"):\n",
        "    try:\n",
        "        df = DataFetcher(stock)\n",
        "        best_params = optimize_super_trend_parameters(df.copy(), multipliers, periods)\n",
        "        all_stocks_data.append({'symbol': stock, 'multiplier': best_params[0], 'period': best_params[1]})\n",
        "    except:\n",
        "        continue\n",
        "\n",
        "all_stocks_df = pd.DataFrame(all_stocks_data)  # Concatenate all stock dataframes\n"
      ]
    },
    {
      "cell_type": "code",
      "execution_count": null,
      "metadata": {},
      "outputs": [],
      "source": [
        "csv_file_path = 'Paramns_stocks.csv'\n",
        "all_stocks_df.to_csv(csv_file_path, index=False)"
      ]
    }
  ],
  "metadata": {
    "colab": {
      "provenance": []
    },
    "kernelspec": {
      "display_name": "Python 3",
      "name": "python3"
    },
    "language_info": {
      "codemirror_mode": {
        "name": "ipython",
        "version": 3
      },
      "file_extension": ".py",
      "mimetype": "text/x-python",
      "name": "python",
      "nbconvert_exporter": "python",
      "pygments_lexer": "ipython3",
      "version": "3.10.11"
    }
  },
  "nbformat": 4,
  "nbformat_minor": 0
}
