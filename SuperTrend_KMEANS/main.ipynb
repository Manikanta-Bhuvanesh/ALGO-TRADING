{
 "cells": [
  {
   "cell_type": "code",
   "execution_count": 5,
   "metadata": {},
   "outputs": [],
   "source": [
    "import pandas as pd\n",
    "import numpy as np\n",
    "import yfinance as yf\n",
    "from tqdm import tqdm\n",
    "from bs4 import BeautifulSoup\n",
    "from urllib.request import urlopen, Request\n",
    "import smtplib\n",
    "from email.mime.multipart import MIMEMultipart\n",
    "from email.mime.text import MIMEText\n",
    "from email.mime.application import MIMEApplication"
   ]
  },
  {
   "cell_type": "code",
   "execution_count": 6,
   "metadata": {},
   "outputs": [
    {
     "name": "stderr",
     "output_type": "stream",
     "text": [
      "Executing:   0%|          | 0/4 [00:00<?, ?cell/s]"
     ]
    },
    {
     "name": "stderr",
     "output_type": "stream",
     "text": [
      "C:\\Users\\Bhuvanesh\\AppData\\Roaming\\Python\\Python310\\site-packages\\papermill\\iorw.py:153: UserWarning: the file is not specified with any extension : null\n",
      "  warnings.warn(\n",
      "\n",
      "\n",
      "\n",
      "\u001b[A\u001b[A\u001b[A\n",
      "\n",
      "\u001b[A\u001b[A\n",
      "\u001b[A\n",
      "\u001b[A\n",
      "\n",
      "Executing:  25%|██▌       | 1/4 [00:04<00:12,  4.18s/cell]\n",
      "\n",
      "\n",
      "\u001b[A\u001b[A\u001b[A"
     ]
    }
   ],
   "source": [
    "import papermill as pm\n",
    "from concurrent.futures import ThreadPoolExecutor, as_completed\n",
    "\n",
    "# List of notebook paths\n",
    "notebooks = [\n",
    "    \"KMEANS_SUPERTREND_ITER_1.ipynb\",\n",
    "    \"KMEANS_SUPERTREND_ITER_2.ipynb\",\n",
    "    \"KMEANS_SUPERTREND_ITER_3.ipynb\",\n",
    "    \"KMEANS_SUPERTREND_ITER_4.ipynb\",\n",
    "    \"KMEANS_SUPERTREND_ITER_5.ipynb\"\n",
    "]\n",
    "\n",
    "def run_notebook(nb_path):\n",
    "    try:\n",
    "        # Execute the notebook directly without saving output\n",
    "        pm.execute_notebook(\n",
    "            nb_path,\n",
    "            'null',  # Indicates to papermill that the output should be discarded\n",
    "            parameters={}  # No parameters needed\n",
    "        )\n",
    "        print(f\"{nb_path} executed successfully.\")\n",
    "    except Exception as e:\n",
    "        print(f\"Failed to execute {nb_path}: {str(e)}\")\n",
    "\n",
    "# Execute all notebooks in parallel\n",
    "with ThreadPoolExecutor(max_workers=len(notebooks)) as executor:\n",
    "    futures = [executor.submit(run_notebook, nb) for nb in notebooks]\n",
    "    # Using as_completed to print out results as they are finished\n",
    "    for future in as_completed(futures):\n",
    "        # Result already printed in run_notebook function\n",
    "        pass\n"
   ]
  },
  {
   "cell_type": "code",
   "execution_count": null,
   "metadata": {},
   "outputs": [],
   "source": [
    "df1=pd.read_csv('kMeans_all_stocks_1.csv')\n",
    "df2=pd.read_csv('kMeans_all_stocks_2.csv')\n",
    "df3=pd.read_csv('kMeans_all_stocks_3.csv')\n",
    "df4=pd.read_csv('kMeans_all_stocks_4.csv')\n",
    "df5=pd.read_csv('kMeans_all_stocks_5.csv')\n",
    "\n",
    "concatenated_df = pd.concat([df1, df2, df3, df4, df5], ignore_index=True)\n",
    "concatenated_df.to_csv('kMeans_all_stocks.csv', index=False)"
   ]
  },
  {
   "cell_type": "code",
   "execution_count": null,
   "metadata": {},
   "outputs": [
    {
     "data": {
      "text/plain": [
       "(221,\n",
       " b'2.0.0 closing connection 98e67ed59e1d1-2b628ea59absm17780897a91.47 - gsmtp')"
      ]
     },
     "execution_count": 4,
     "metadata": {},
     "output_type": "execute_result"
    }
   ],
   "source": [
    "sender_email = \"bhuvanesh.valiveti@gmail.com\"\n",
    "receiver_emails = [\"bhuvanesh.valiveti@gmail.com\",\"guruteja26@gmail.com\",\"manas.baggu.official@gmail.com\",\"rajamanohar931@gmail.com\",\"manishsikakolli@gmail.com\"]\n",
    "subject = \" Kmeans Stocks CSV File Attached\"\n",
    "body = \"Please find attached Kmeans Stratergy the CSV file.\"\n",
    "\n",
    "# Create SMTP session\n",
    "server = smtplib.SMTP('smtp.gmail.com', 587)\n",
    "server.starttls()\n",
    "server.login(sender_email, \"bcea clul fryl htqw\")  # Replace \"your_password\" with your actual password\n",
    "\n",
    "# Create message container\n",
    "msg = MIMEMultipart()\n",
    "msg['From'] = sender_email\n",
    "msg['To'] = \", \".join(receiver_emails)\n",
    "msg['Subject'] = subject\n",
    "\n",
    "# Attach body to email\n",
    "msg.attach(MIMEText(body, 'plain'))\n",
    "\n",
    "# Attach CSV file to email\n",
    "with open(\"kMeans_all_stocks.csv\", \"rb\") as attachment:\n",
    "    part = MIMEApplication(attachment.read(), Name=\"kMeans_all_stocks.csv\")\n",
    "\n",
    "part['Content-Disposition'] = f'attachment; filename=\"kMeans_all_stocks.csv\"'\n",
    "msg.attach(part)\n",
    "\n",
    "# Send email\n",
    "server.send_message(msg)\n",
    "\n",
    "# Close SMTP session\n",
    "server.quit()"
   ]
  }
 ],
 "metadata": {
  "kernelspec": {
   "display_name": "Python 3",
   "language": "python",
   "name": "python3"
  },
  "language_info": {
   "codemirror_mode": {
    "name": "ipython",
    "version": 3
   },
   "file_extension": ".py",
   "mimetype": "text/x-python",
   "name": "python",
   "nbconvert_exporter": "python",
   "pygments_lexer": "ipython3",
   "version": "3.10.11"
  }
 },
 "nbformat": 4,
 "nbformat_minor": 2
}
