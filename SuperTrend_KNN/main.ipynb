{
 "cells": [
  {
   "cell_type": "code",
   "execution_count": 5,
   "metadata": {},
   "outputs": [],
   "source": [
    "import pandas as pd\n",
    "import numpy as np\n",
    "import yfinance as yf\n",
    "from tqdm import tqdm\n",
    "from bs4 import BeautifulSoup\n",
    "from urllib.request import urlopen, Request\n",
    "import smtplib\n",
    "from email.mime.multipart import MIMEMultipart\n",
    "from email.mime.text import MIMEText\n",
    "from email.mime.application import MIMEApplication"
   ]
  },
  {
   "cell_type": "code",
   "execution_count": 6,
   "metadata": {},
   "outputs": [
    {
     "name": "stderr",
     "output_type": "stream",
     "text": [
      "Executing:   0%|          | 0/4 [00:00<?, ?cell/s]C:\\Users\\Bhuvanesh\\AppData\\Roaming\\Python\\Python310\\site-packages\\papermill\\iorw.py:153: UserWarning: the file is not specified with any extension : null\n",
      "  warnings.warn(\n",
      "\n",
      "\u001b[A\n",
      "\n",
      "\u001b[A\u001b[A\n",
      "\n",
      "\n",
      "Executing:  25%|██▌       | 1/4 [00:02<00:08,  2.92s/cell]\n",
      "\u001b[A\n",
      "\n",
      "\u001b[A\u001b[A\n",
      "\n",
      "\n",
      "\u001b[A\u001b[A\u001b[A\n",
      "\n",
      "\n",
      "\u001b[A\u001b[A\u001b[A\n",
      "\n",
      "\n",
      "Executing: 100%|██████████| 4/4 [2:19:33<00:00, 2093.31s/cell]\n"
     ]
    },
    {
     "name": "stdout",
     "output_type": "stream",
     "text": [
      "KNN_SUPERTREND_ITER_5.ipynb executed successfully.\n"
     ]
    },
    {
     "name": "stderr",
     "output_type": "stream",
     "text": [
      "\n",
      "\n",
      "\u001b[A\u001b[A\n",
      "\n",
      "Executing: 100%|██████████| 4/4 [2:35:52<00:00, 2338.02s/cell]\n"
     ]
    },
    {
     "name": "stdout",
     "output_type": "stream",
     "text": [
      "KNN_SUPERTREND_ITER_3.ipynb executed successfully.\n"
     ]
    },
    {
     "name": "stderr",
     "output_type": "stream",
     "text": [
      "\n",
      "\u001b[A\n",
      "Executing: 100%|██████████| 4/4 [2:40:57<00:00, 2414.29s/cell]\n"
     ]
    },
    {
     "name": "stdout",
     "output_type": "stream",
     "text": [
      "KNN_SUPERTREND_ITER_4.ipynb executed successfully.\n"
     ]
    }
   ],
   "source": [
    "import papermill as pm\n",
    "from concurrent.futures import ThreadPoolExecutor, as_completed\n",
    "\n",
    "# List of notebook paths\n",
    "notebooks = [\n",
    "    \"KNN_SUPERTREND_ITER_1.ipynb\",\n",
    "    \"KNN_SUPERTREND_ITER_2.ipynb\",\n",
    "    \"KNN_SUPERTREND_ITER_3.ipynb\",\n",
    "    \"KNN_SUPERTREND_ITER_4.ipynb\",\n",
    "    \"KNN_SUPERTREND_ITER_5.ipynb\"\n",
    "]\n",
    "\n",
    "def run_notebook(nb_path):\n",
    "    try:\n",
    "        # Execute the notebook directly without saving output\n",
    "        pm.execute_notebook(\n",
    "            nb_path,\n",
    "            'null',  # Indicates to papermill that the output should be discarded\n",
    "            parameters={}  # No parameters needed\n",
    "        )\n",
    "        print(f\"{nb_path} executed successfully.\")\n",
    "    except Exception as e:\n",
    "        print(f\"Failed to execute {nb_path}: {str(e)}\")\n",
    "\n",
    "# Execute all notebooks in parallel\n",
    "with ThreadPoolExecutor(max_workers=len(notebooks)) as executor:\n",
    "    futures = [executor.submit(run_notebook, nb) for nb in notebooks]\n",
    "    # Using as_completed to print out results as they are finished\n",
    "    for future in as_completed(futures):\n",
    "        # Result already printed in run_notebook function\n",
    "        pass\n"
   ]
  },
  {
   "cell_type": "code",
   "execution_count": null,
   "metadata": {},
   "outputs": [
    {
     "name": "stderr",
     "output_type": "stream",
     "text": [
      "C:\\Users\\Bhuvanesh\\AppData\\Local\\Temp\\ipykernel_15972\\2358429462.py:7: FutureWarning: The behavior of DataFrame concatenation with empty or all-NA entries is deprecated. In a future version, this will no longer exclude empty or all-NA columns when determining the result dtypes. To retain the old behavior, exclude the relevant entries before the concat operation.\n",
      "  concatenated_df = pd.concat([df1, df2, df3, df4, df5], ignore_index=True)\n"
     ]
    }
   ],
   "source": [
    "df1=pd.read_csv('knn_all_stocks_1.csv')\n",
    "df2=pd.read_csv('knn_all_stocks_2.csv')\n",
    "df3=pd.read_csv('knn_all_stocks_3.csv')\n",
    "df4=pd.read_csv('knn_all_stocks_4.csv')\n",
    "df5=pd.read_csv('knn_all_stocks_5.csv')\n",
    "\n",
    "concatenated_df = pd.concat([df1, df2, df3, df4, df5], ignore_index=True)\n",
    "concatenated_df.to_csv('knn_all_stocks.csv', index=False)"
   ]
  },
  {
   "cell_type": "code",
   "execution_count": null,
   "metadata": {},
   "outputs": [
    {
     "data": {
      "text/plain": [
       "(221,\n",
       " b'2.0.0 closing connection d9443c01a7336-1ef0bada431sm159752005ad.100 - gsmtp')"
      ]
     },
     "execution_count": 4,
     "metadata": {},
     "output_type": "execute_result"
    }
   ],
   "source": [
    "sender_email = \"bhuvanesh.valiveti@gmail.com\"\n",
    "receiver_emails = [\"bhuvanesh.valiveti@gmail.com\",\"guruteja26@gmail.com\",\"manas.baggu.official@gmail.com\",\"rajamanohar931@gmail.com\",\"manishsikakolli@gmail.com\"]\n",
    "subject = \"Stocks CSV File Attached\"\n",
    "body = \"Please find attached the CSV file.\"\n",
    "\n",
    "# Create SMTP session\n",
    "server = smtplib.SMTP('smtp.gmail.com', 587)\n",
    "server.starttls()\n",
    "server.login(sender_email, \"bcea clul fryl htqw\")  # Replace \"your_password\" with your actual password\n",
    "\n",
    "# Create message container\n",
    "msg = MIMEMultipart()\n",
    "msg['From'] = sender_email\n",
    "msg['To'] = \", \".join(receiver_emails)\n",
    "msg['Subject'] = subject\n",
    "\n",
    "# Attach body to email\n",
    "msg.attach(MIMEText(body, 'plain'))\n",
    "\n",
    "# Attach CSV file to email\n",
    "with open(\"knn_all_stocks.csv\", \"rb\") as attachment:\n",
    "    part = MIMEApplication(attachment.read(), Name=\"knn_all_stocks.csv\")\n",
    "\n",
    "part['Content-Disposition'] = f'attachment; filename=\"knn_all_stocks.csv\"'\n",
    "msg.attach(part)\n",
    "\n",
    "# Send email\n",
    "server.send_message(msg)\n",
    "\n",
    "# Close SMTP session\n",
    "server.quit()"
   ]
  }
 ],
 "metadata": {
  "kernelspec": {
   "display_name": "Python 3",
   "language": "python",
   "name": "python3"
  },
  "language_info": {
   "codemirror_mode": {
    "name": "ipython",
    "version": 3
   },
   "file_extension": ".py",
   "mimetype": "text/x-python",
   "name": "python",
   "nbconvert_exporter": "python",
   "pygments_lexer": "ipython3",
   "version": "3.10.11"
  }
 },
 "nbformat": 4,
 "nbformat_minor": 2
}
